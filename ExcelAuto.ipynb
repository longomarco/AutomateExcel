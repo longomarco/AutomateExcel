{
 "cells": [
  {
   "cell_type": "code",
   "execution_count": 1,
   "id": "ae9d2f10-fd82-46ba-bd18-592a388037e3",
   "metadata": {},
   "outputs": [],
   "source": [
    "import pandas as pd\n",
    "pd.set_option('display.float_format', lambda x: '%.2f' % x)\n",
    "import matplotlib.pyplot as plt\n",
    "import seaborn as sns\n",
    "import numpy as np\n",
    "import glob"
   ]
  },
  {
   "cell_type": "markdown",
   "id": "e0b5bc12-2656-4cc1-abd7-b42d753c9a10",
   "metadata": {},
   "source": [
    "### We have 12 csv files each for every month in 2018. First step is to aggregate all data in one."
   ]
  },
  {
   "cell_type": "code",
   "execution_count": 2,
   "id": "0816ca12-d39f-49de-9ac3-b43dd356c4a5",
   "metadata": {},
   "outputs": [],
   "source": [
    "#Gather a List for all files name\n",
    "files = glob.glob('SalesData\\*.csv')"
   ]
  },
  {
   "cell_type": "code",
   "execution_count": 3,
   "id": "3282b392-0b4a-46d2-bd3f-f7a1b41253b6",
   "metadata": {},
   "outputs": [],
   "source": [
    "#Every csv files it is ridden and then appended to df_list\n",
    "df_list=[]\n",
    "for f in files:\n",
    "    csv = pd.read_csv(f, sep=';', decimal=',')\n",
    "    df_list.append(csv)"
   ]
  },
  {
   "cell_type": "code",
   "execution_count": 4,
   "id": "72ca4b84-a9d1-4455-a0d1-9214d93a6cca",
   "metadata": {},
   "outputs": [],
   "source": [
    "#all csv files appended are now converted to a proper dataframe called 'sales'\n",
    "sales = pd.concat(df_list)"
   ]
  },
  {
   "cell_type": "markdown",
   "id": "e0d6edd0-f86a-4f32-9d47-23acc8b59ed1",
   "metadata": {},
   "source": [
    "### Now we can convert 'OrderDate' in a proper datetime datatype, use it as an index, create new usefull features"
   ]
  },
  {
   "cell_type": "code",
   "execution_count": 5,
   "id": "8af3d100-1af4-4324-8821-bf3ed9d81566",
   "metadata": {},
   "outputs": [],
   "source": [
    "#OrderDate converted in datetime\n",
    "sales['OrderDate'] = pd.to_datetime(sales['OrderDate'])\n",
    "#New feauture: profit\n",
    "sales['Profit'] = sales['SalesAmount'] - (sales['TaxAmt'] + sales['Freight'])\n",
    "#From OrderDate we extract the weekday, then converted from number to the actual day name\n",
    "sales['WeekDay'] = sales['OrderDate'].dt.weekday\n",
    "sales['WeekDay'] = sales['WeekDay'].map({\n",
    "                    0:'Monday',\n",
    "                    1:'Tuesday',\n",
    "                    2:'Wednesday',\n",
    "                    3:'Thursday',\n",
    "                    4:'Friday',\n",
    "                    5:'Saturday',\n",
    "                    6:'Sunday'})\n",
    "#From OrderDate we extract the month, then converted from number to the actual month name\n",
    "sales['Month'] = sales['OrderDate'].dt.month\n",
    "sales['Month'] = sales['Month'].map({\n",
    "                    1:'Jan',\n",
    "                    2:'Feb',\n",
    "                    3:'Mar',\n",
    "                    4:'Apr',\n",
    "                    5:'May',\n",
    "                    6:'Jun',\n",
    "                    7:'Jul',\n",
    "                    8:'Aug',\n",
    "                    9:'Sep',\n",
    "                    10:'Oct',\n",
    "                    11:'Nov',\n",
    "                    12:'Dec'})\n",
    "#From OrderDate we extract the day\n",
    "sales['MonthDay'] = sales['OrderDate'].dt.day\n",
    "#From OrderDate we extract the quarter\n",
    "sales['Quarter'] = sales['OrderDate'].dt.quarter\n",
    "sales['Quarter'] = sales['Quarter'].map({\n",
    "                    1:'Q1',\n",
    "                    2:'Q2',\n",
    "                    3:'Q3',\n",
    "                    4:'Q4'})\n",
    "#Use OrderDate as index for more clarity\n",
    "sales.set_index(['OrderDate'], inplace=True)"
   ]
  },
  {
   "cell_type": "markdown",
   "id": "7e5a872f-a5af-4784-9733-6923c6a66f34",
   "metadata": {},
   "source": [
    "### Next step is to analyze our data and create insights"
   ]
  },
  {
   "cell_type": "code",
   "execution_count": 6,
   "id": "df938b87-f61a-4d43-bcac-90b2d4ac842b",
   "metadata": {},
   "outputs": [],
   "source": [
    "#TotalSales per Product\n",
    "total_sales = pd.pivot_table(sales, index='ProductName', values='SalesAmount', aggfunc=np.sum)\n",
    "total_sales = total_sales.sort_values(by='SalesAmount', ascending=False)\n",
    "#TotalSales per BuyerName\n",
    "buyer = pd.pivot_table(sales, index='Name', values=['OrderQuantity', 'SalesAmount'], aggfunc=np.sum)\n",
    "buyer = buyer.sort_values(by='SalesAmount', ascending=False)\n",
    "#SalesbyCountry\n",
    "country_sales = pd.pivot_table(sales, index=['ProductName', 'Country'], values=['OrderQuantity', 'SalesAmount'], aggfunc=np.sum)\n",
    "country_sales = country_sales.sort_values(by=['ProductName','OrderQuantity'], ascending=False)"
   ]
  },
  {
   "cell_type": "code",
   "execution_count": 7,
   "id": "7ffdf8d9-d197-4e03-a718-fc37498f5e33",
   "metadata": {},
   "outputs": [],
   "source": [
    "#TotalProfit\n",
    "total_profit = pd.pivot_table(sales, index='ProductName', values='Profit', aggfunc=np.sum)\n",
    "total_profit = total_profit.sort_values(by='Profit', ascending=False)"
   ]
  },
  {
   "cell_type": "code",
   "execution_count": 8,
   "id": "632f6f76-e742-417b-ab5d-e3bf5a05e106",
   "metadata": {},
   "outputs": [],
   "source": [
    "#TimeAnalysis\n",
    "cats = ['Monday', 'Tuesday', 'Wednesday', 'Thursday', 'Friday', 'Saturday', 'Sunday']\n",
    "sales['WeekDay'] = pd.Categorical(sales['WeekDay'], categories=cats, ordered=True)\n",
    "pivot_wd = pd.pivot_table(sales, index='WeekDay', values=['OrderQuantity','SalesAmount','Profit'], aggfunc=np.sum)\n",
    "cats = ['Jan', 'Feb', 'Mar', 'Apr', 'May', 'Jun', 'Jul', 'Aug', 'Sep', 'Oct', 'Nov', 'Dec']\n",
    "sales['Month'] = pd.Categorical(sales['Month'], categories=cats, ordered=True)\n",
    "pivot_month = pd.pivot_table(sales, index='Month', values=['OrderQuantity','SalesAmount','Profit'], aggfunc=np.sum)\n",
    "pivot_quarter = pd.pivot_table(sales, index='Quarter', values=['OrderQuantity','SalesAmount','Profit'], aggfunc=np.sum)"
   ]
  },
  {
   "cell_type": "markdown",
   "id": "fd6ac31f-76d0-4f0c-84c0-49f3f1632e84",
   "metadata": {},
   "source": [
    "### From 12 csv file now it is time to create an excel file: the 'SalesReport_2018'.<br> Inside this, multiple worksheet: each for every pivot table created.<br><br>The file can be easily used for further analysis or shared by email."
   ]
  },
  {
   "cell_type": "code",
   "execution_count": 9,
   "id": "46cb7f50-bf14-47a9-ad6b-cee7fb320455",
   "metadata": {},
   "outputs": [
    {
     "ename": "ModuleNotFoundError",
     "evalue": "No module named 'openpyxl'",
     "output_type": "error",
     "traceback": [
      "\u001b[1;31m---------------------------------------------------------------------------\u001b[0m",
      "\u001b[1;31mModuleNotFoundError\u001b[0m                       Traceback (most recent call last)",
      "Input \u001b[1;32mIn [9]\u001b[0m, in \u001b[0;36m<cell line: 1>\u001b[1;34m()\u001b[0m\n\u001b[1;32m----> 1\u001b[0m \u001b[38;5;28;01mwith\u001b[39;00m \u001b[43mpd\u001b[49m\u001b[38;5;241;43m.\u001b[39;49m\u001b[43mExcelWriter\u001b[49m\u001b[43m(\u001b[49m\u001b[38;5;124;43m'\u001b[39;49m\u001b[38;5;124;43mSalesReport_2018.xlsx\u001b[39;49m\u001b[38;5;124;43m'\u001b[39;49m\u001b[43m)\u001b[49m \u001b[38;5;28;01mas\u001b[39;00m writer:\n\u001b[0;32m      2\u001b[0m     sales\u001b[38;5;241m.\u001b[39mto_excel(writer, sheet_name\u001b[38;5;241m=\u001b[39m\u001b[38;5;124m\"\u001b[39m\u001b[38;5;124mSalesData\u001b[39m\u001b[38;5;124m\"\u001b[39m, index\u001b[38;5;241m=\u001b[39m\u001b[38;5;28;01mTrue\u001b[39;00m)\n\u001b[0;32m      3\u001b[0m     total_sales\u001b[38;5;241m.\u001b[39mto_excel(writer, sheet_name\u001b[38;5;241m=\u001b[39m\u001b[38;5;124m\"\u001b[39m\u001b[38;5;124mTotalSales\u001b[39m\u001b[38;5;124m\"\u001b[39m, index\u001b[38;5;241m=\u001b[39m\u001b[38;5;28;01mTrue\u001b[39;00m)\n",
      "File \u001b[1;32m~\\AppData\\Local\\Programs\\Python\\Python38\\lib\\site-packages\\pandas\\io\\excel\\_openpyxl.py:49\u001b[0m, in \u001b[0;36mOpenpyxlWriter.__init__\u001b[1;34m(self, path, engine, date_format, datetime_format, mode, storage_options, if_sheet_exists, engine_kwargs, **kwargs)\u001b[0m\n\u001b[0;32m     36\u001b[0m \u001b[38;5;28;01mdef\u001b[39;00m \u001b[38;5;21m__init__\u001b[39m(\n\u001b[0;32m     37\u001b[0m     \u001b[38;5;28mself\u001b[39m,\n\u001b[0;32m     38\u001b[0m     path,\n\u001b[1;32m   (...)\u001b[0m\n\u001b[0;32m     47\u001b[0m ):\n\u001b[0;32m     48\u001b[0m     \u001b[38;5;66;03m# Use the openpyxl module as the Excel writer.\u001b[39;00m\n\u001b[1;32m---> 49\u001b[0m     \u001b[38;5;28;01mfrom\u001b[39;00m \u001b[38;5;21;01mopenpyxl\u001b[39;00m\u001b[38;5;21;01m.\u001b[39;00m\u001b[38;5;21;01mworkbook\u001b[39;00m \u001b[38;5;28;01mimport\u001b[39;00m Workbook\n\u001b[0;32m     51\u001b[0m     engine_kwargs \u001b[38;5;241m=\u001b[39m combine_kwargs(engine_kwargs, kwargs)\n\u001b[0;32m     53\u001b[0m     \u001b[38;5;28msuper\u001b[39m()\u001b[38;5;241m.\u001b[39m\u001b[38;5;21m__init__\u001b[39m(\n\u001b[0;32m     54\u001b[0m         path,\n\u001b[0;32m     55\u001b[0m         mode\u001b[38;5;241m=\u001b[39mmode,\n\u001b[1;32m   (...)\u001b[0m\n\u001b[0;32m     58\u001b[0m         engine_kwargs\u001b[38;5;241m=\u001b[39mengine_kwargs,\n\u001b[0;32m     59\u001b[0m     )\n",
      "\u001b[1;31mModuleNotFoundError\u001b[0m: No module named 'openpyxl'"
     ]
    }
   ],
   "source": [
    "with pd.ExcelWriter('SalesReport_2018.xlsx') as writer:\n",
    "    sales.to_excel(writer, sheet_name=\"SalesData\", index=True)\n",
    "    total_sales.to_excel(writer, sheet_name=\"TotalSales\", index=True)\n",
    "    total_profit.to_excel(writer, sheet_name='TotalProfit', index=True)\n",
    "    buyer.to_excel(writer, sheet_name=\"CustomerName\", index=True)\n",
    "    country_sales.to_excel(writer, sheet_name='Country', index=True)\n",
    "    pivot_wd.to_excel(writer, sheet_name='WeekDay', index=True)\n",
    "    pivot_month.to_excel(writer, sheet_name='Month', index=True)\n",
    "    pivot_quarter.to_excel(writer, sheet_name='Quarter', index=True)"
   ]
  }
 ],
 "metadata": {
  "kernelspec": {
   "display_name": "Python 3 (ipykernel)",
   "language": "python",
   "name": "python3"
  },
  "language_info": {
   "codemirror_mode": {
    "name": "ipython",
    "version": 3
   },
   "file_extension": ".py",
   "mimetype": "text/x-python",
   "name": "python",
   "nbconvert_exporter": "python",
   "pygments_lexer": "ipython3",
   "version": "3.8.10"
  }
 },
 "nbformat": 4,
 "nbformat_minor": 5
}
